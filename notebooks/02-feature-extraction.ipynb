{
 "cells": [
  {
   "cell_type": "markdown",
   "metadata": {},
   "source": [
    "# feature extraction"
   ]
  },
  {
   "cell_type": "markdown",
   "metadata": {},
   "source": [
    "So we already found out that supervised learning need **features** to learn to classify. What are we talking about when we say *features*?\n",
    "An example of some of the features used with the **k-Nearest Neighbor** algorithm are shown below: the durations of syllables and the brief, silent pauses between syllables. Notice they are very *engineered*: I have to define the current syllable and then specify the duration of the syllable that precides it, and write code that knows how to deal with edge cases (e.g., the first syllable doesn't have any syllable preceding it, so what should the value of the feature be in that case?)"
   ]
  },
  {
   "cell_type": "markdown",
   "metadata": {},
   "source": [
    "![example knn features](../static/knn_duration_features.png)"
   ]
  },
  {
   "cell_type": "markdown",
   "metadata": {},
   "source": [
    "How do we do feature extraction with `hvc`?\n",
    "First we need some song to work with. We download some of it from a public repository."
   ]
  },
  {
   "cell_type": "code",
   "execution_count": null,
   "metadata": {},
   "outputs": [],
   "source": [
    "import hvc\n",
    "# use the `fetch` function to download data from a public repository\n",
    "hvc.utils.fetch('gy6or6.032212')\n",
    "hvc.utils.fetch('gy6or6.032612')"
   ]
  },
  {
   "cell_type": "code",
   "execution_count": null,
   "metadata": {},
   "outputs": [],
   "source": []
  }
 ],
 "metadata": {
  "kernelspec": {
   "display_name": "Python 3",
   "language": "python",
   "name": "python3"
  },
  "language_info": {
   "codemirror_mode": {
    "name": "ipython",
    "version": 3
   },
   "file_extension": ".py",
   "mimetype": "text/x-python",
   "name": "python",
   "nbconvert_exporter": "python",
   "pygments_lexer": "ipython3",
   "version": "3.5.4"
  }
 },
 "nbformat": 4,
 "nbformat_minor": 2
}
