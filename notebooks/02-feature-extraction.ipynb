{
 "cells": [
  {
   "cell_type": "markdown",
   "metadata": {},
   "source": [
    "# feature extraction"
   ]
  },
  {
   "cell_type": "markdown",
   "metadata": {},
   "source": [
    "So we already found out that supervised learning need **features** to learn to classify. What are we talking about when we say *features*?\n",
    "An example of some of the features used with the **k-Nearest Neighbor** algorithm are shown below: the durations of syllables and the brief, silent pauses between syllables. Notice they are very *engineered*: I have to define the current syllable and then specify the duration of the syllable that precides it, and write code that knows how to deal with edge cases (e.g., the first syllable doesn't have any syllable preceding it, so what should the value of the feature be in that case?)"
   ]
  },
  {
   "cell_type": "markdown",
   "metadata": {},
   "source": [
    "![example knn features](../static/knn_duration_features.png)"
   ]
  },
  {
   "cell_type": "markdown",
   "metadata": {},
   "source": [
    "How do we do feature extraction with `hvc`?\n",
    "First we need some song to work with. We download some of it from a public repository."
   ]
  },
  {
   "cell_type": "code",
   "execution_count": null,
   "metadata": {},
   "outputs": [],
   "source": [
    "import hvc\n",
    "# use the `fetch` function to download data from a public repository\n",
    "hvc.utils.fetch('gy6or6.032212', destination='../output/')\n",
    "hvc.utils.fetch('gy6or6.032612', destination='../output/')"
   ]
  },
  {
   "cell_type": "markdown",
   "metadata": {},
   "source": [
    "We will call the `hvc.extract` function on some of this data. But first we need to define some arguments we'll use when call the funciton. First we need to tell `hvc` where the data lives."
   ]
  },
  {
   "cell_type": "code",
   "execution_count": null,
   "metadata": {},
   "outputs": [],
   "source": [
    "data_dirs = ['../output/032212/']  # a list, in this case with only one element in it"
   ]
  },
  {
   "cell_type": "markdown",
   "metadata": {},
   "source": [
    "We also tell `hvc` the audio file format. "
   ]
  },
  {
   "cell_type": "code",
   "execution_count": null,
   "metadata": {},
   "outputs": [],
   "source": [
    "file_format = 'cbin'"
   ]
  },
  {
   "cell_type": "markdown",
   "metadata": {},
   "source": [
    "The repository we downloaded has `.cbin` files and the annotations are in `.mat` files which `hvc` knows how to parse.\n",
    "\n",
    "You can use the more common `.wav` files and annotate your song however you prefer as long as you can get it into the very simple text file format that `hvc` uses; see the docs for a simple Python script that does this which you can adapt as you need."
   ]
  },
  {
   "cell_type": "markdown",
   "metadata": {},
   "source": [
    "Lastly we tell `hvc` which syllables it should learn how to classify, i.e. from the labeled segments, which one does it use? We also tell `hcv` the name of a **feature group**, i.e. a set of features, to extract. These feature groups are built in to the library for use with one of the machine learning algorithms. We use a set of features that has been shown to be effective with the k-Nearest Neighbors algorithm (some of which we saw above). "
   ]
  },
  {
   "cell_type": "code",
   "execution_count": null,
   "metadata": {},
   "outputs": [],
   "source": [
    "labels_to_use = 'iabcdefghjk'\n",
    "feature_group = 'knn'"
   ]
  },
  {
   "cell_type": "markdown",
   "metadata": {},
   "source": [
    "We also tell `hvc` where to save the features it extracts. And we want `hvc` to give us back the features in a variable so we can work with them in our Jupyter notebook."
   ]
  },
  {
   "cell_type": "code",
   "execution_count": null,
   "metadata": {},
   "outputs": [],
   "source": [
    "output_dir = '../output/'\n",
    "return_features = True"
   ]
  },
  {
   "cell_type": "markdown",
   "metadata": {},
   "source": [
    "Now we call the `hvc.extract` function with these arguments."
   ]
  },
  {
   "cell_type": "code",
   "execution_count": null,
   "metadata": {},
   "outputs": [],
   "source": [
    "ftrs = hvc.extract(data_dirs=data_dirs,\n",
    "                   file_format=file_format,\n",
    "                   labels_to_use=labels_to_use,\n",
    "                   feature_group=feature_group,\n",
    "                   output_dir=output_dir,\n",
    "                   return_features=return_features)"
   ]
  },
  {
   "cell_type": "markdown",
   "metadata": {},
   "source": [
    "`hvc` tells us it's extracting features from files and then returns a Python `dict` (dictionary) which is a mapping of \"keys\" to \"values\". For example the 'features' key points to a matrix where each row is an individual syllable, and each column is a feature extracted from that syllable."
   ]
  },
  {
   "cell_type": "code",
   "execution_count": null,
   "metadata": {},
   "outputs": [],
   "source": [
    "print(ftrs['features'])"
   ]
  },
  {
   "cell_type": "markdown",
   "metadata": {},
   "source": [
    "This output was also saved in the `output_dir`."
   ]
  },
  {
   "cell_type": "code",
   "execution_count": null,
   "metadata": {},
   "outputs": [],
   "source": [
    "ls ../output/extract*"
   ]
  },
  {
   "cell_type": "markdown",
   "metadata": {},
   "source": [
    "Now we can load those features and use them to train models!"
   ]
  }
 ],
 "metadata": {
  "kernelspec": {
   "display_name": "Python 3",
   "language": "python",
   "name": "python3"
  },
  "language_info": {
   "codemirror_mode": {
    "name": "ipython",
    "version": 3
   },
   "file_extension": ".py",
   "mimetype": "text/x-python",
   "name": "python",
   "nbconvert_exporter": "python",
   "pygments_lexer": "ipython3",
   "version": "3.5.4"
  }
 },
 "nbformat": 4,
 "nbformat_minor": 2
}
