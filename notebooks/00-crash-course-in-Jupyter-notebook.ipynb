{
 "cells": [
  {
   "cell_type": "markdown",
   "metadata": {},
   "source": [
    "# 0. Jupyter notebooks\n",
    "* what are they?\n",
    " - documents you read in a browser\n",
    " - let you mix code and text\n",
    " - program in multiple languages\n",
    "* why would you use them?\n",
    " - present your results to other people\n",
    "   - https://github.com/jupyter/jupyter/wiki/A-gallery-of-interesting-Jupyter-and-IPython-Notebooks#reproducible-academic-publications\n",
    "   - http://www.sciencedirect.com/science/article/pii/S1053811914003103\n",
    "   - http://nbviewer.jupyter.org/github/jansoe/FUImaging/blob/master/examples/IOSsegmentation/regNMF.ipynb\n",
    "     - Github loves Jupyter notebooks so much that the website automatically converts the files from raw JSON into a readable document like the one you're looking at now\n",
    " - do exploratory analysis, so you don't have to write a bunch of little scripts and run them from the command line\n",
    " - for interactive tutorials, like this one\n",
    "   - how to use Jupyter notebooks:\n",
    "     - https://nbviewer.jupyter.org/github/ipython/ipython/blob/master/examples/IPython%20Kernel/Index.ipynb\n",
    "   - introduction to machine learning by a person that does lots of open-source neuro. stuff:\n",
    "     - http://ipython-books.github.io/featured-04/"
   ]
  },
  {
   "cell_type": "markdown",
   "metadata": {},
   "source": [
    "## How to Jupyter:\n",
    "* Two modes, \"edit\" and \"command\"\n",
    "  - edit: when you edit the text in a cell\n",
    "  - command: when you do things with cells, like add cells, or remove, or execute the code they contain\n",
    "* Hit `Esc` to go into 'command' mode\n",
    "  - then you can use up and down arrows to move from cell to cell\n",
    "  - while in command mode:\n",
    "    - hitting `b` adds a cell below the current cell\n",
    "    - hitting `a` adds a cell above\n",
    "    - hitting `x` cuts/deletes a cell\n",
    "* Hit `Enter` when you have a certain cell highlighted to enter 'edit' mode\n",
    "* At any time\n",
    "    - `Ctrl + Enter` executes code in current cell\n",
    "    - `Shift + Enter` executes the current cell and advances you to the next"
   ]
  }
 ],
 "metadata": {
  "anaconda-cloud": {},
  "kernelspec": {
   "display_name": "Python 3",
   "language": "python",
   "name": "python3"
  },
  "language_info": {
   "codemirror_mode": {
    "name": "ipython",
    "version": 3
   },
   "file_extension": ".py",
   "mimetype": "text/x-python",
   "name": "python",
   "nbconvert_exporter": "python",
   "pygments_lexer": "ipython3",
   "version": "3.5.3"
  }
 },
 "nbformat": 4,
 "nbformat_minor": 1
}
