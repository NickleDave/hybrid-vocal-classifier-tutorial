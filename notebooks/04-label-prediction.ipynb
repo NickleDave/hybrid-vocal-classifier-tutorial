{
 "cells": [
  {
   "cell_type": "markdown",
   "metadata": {},
   "source": [
    "# label prediction"
   ]
  },
  {
   "cell_type": "markdown",
   "metadata": {},
   "source": [
    "Finally, we use the `hvc.predict` function with the models we trained to predict labels for new data. The arguments to `hvc.predict` are similar to `hvc.extract`, because we will extract the same features from the new data and use those features to classify syllables. \n",
    "\n",
    "The main difference between `hvc.extract` and `hvc.predict` is that we specify the **model_meta_file** we will use for prediction. Each model that you train with `hvc.select` is saved in a `.model` file, and has one of these `.meta` files associated with it. The `.meta` files that `hvc` points to the `.model` file, and keeps track of related \"metadata\", like which features `hvc` needs to extract for the model when you apply it to new data."
   ]
  },
  {
   "cell_type": "code",
   "execution_count": null,
   "metadata": {},
   "outputs": [],
   "source": [
    "from glob import glob\n",
    "\n",
    "select_output = glob('../output/select*/knn*/*')\n",
    "print(select_output[:6])\n",
    "\n",
    "model_meta_file = select_output[-1]\n",
    "print('model meta file: {}'.format(model_meta_file))"
   ]
  },
  {
   "cell_type": "markdown",
   "metadata": {},
   "source": [
    "Most of the rest of the arguments will look familiar from when we used `hvc.extract`. We again specify a list of `data_dirs`, a `file_format`, and an `output_dir`, and we tell `hvc.extract` that we want it to return the predictions in a variable."
   ]
  },
  {
   "cell_type": "code",
   "execution_count": null,
   "metadata": {},
   "outputs": [],
   "source": [
    "data_dirs = [\n",
    "    'cbins/gy6or6/032312',\n",
    "    'cbins/gy6or6/032412']\n",
    "file_format = 'cbin'\n",
    "output_dir = '../output.'\n",
    "return_predictions = True"
   ]
  },
  {
   "cell_type": "markdown",
   "metadata": {},
   "source": [
    "There are a couple other arguments specific to `hvc.predict` though. We tell the function whether we want it to segment the song by saying \n",
    "\n",
    "```Python\n",
    "segment = True\n",
    "```\n",
    "\n",
    "If this was `False`, then the function would look for annotation files and use the onsets and offsets of segments saved in those files. (Instead of calling the function with `data_dirs`, you can alternatively supply a .csv file with annotations for a list of files with the `annotation_file` argument.)\n",
    "\n",
    "We also stipulate that we don't want `hvc.predict` to estimate the probability of the labels that it assigns, by saying `predict_proba = False`, and we provide a file format to which it converts the predictions: `convert_to 'notmat'`."
   ]
  },
  {
   "cell_type": "code",
   "execution_count": null,
   "metadata": {},
   "outputs": [],
   "source": [
    "segment = True\n",
    "predict_proba = False\n",
    "convert_to = 'notmat'"
   ]
  },
  {
   "cell_type": "markdown",
   "metadata": {},
   "source": [
    "Now we are ready to predict all the labels!"
   ]
  },
  {
   "cell_type": "code",
   "execution_count": null,
   "metadata": {},
   "outputs": [],
   "source": [
    "predict = hvc.predict(data_dirs=data_dirs,\n",
    "                      file_format=file_format,\n",
    "                      model_meta_file=model_meta_file,\n",
    "                      segment=segment,\n",
    "                      output_dir=output_dir,\n",
    "                      predict_proba=predict_proba,\n",
    "                      convert_to=convert_to,\n",
    "                      return_predictions=return_predictions)"
   ]
  }
 ],
 "metadata": {
  "kernelspec": {
   "display_name": "Python 3",
   "language": "python",
   "name": "python3"
  },
  "language_info": {
   "codemirror_mode": {
    "name": "ipython",
    "version": 3
   },
   "file_extension": ".py",
   "mimetype": "text/x-python",
   "name": "python",
   "nbconvert_exporter": "python",
   "pygments_lexer": "ipython3",
   "version": "3.5.4"
  }
 },
 "nbformat": 4,
 "nbformat_minor": 2
}
