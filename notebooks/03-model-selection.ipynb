{
 "cells": [
  {
   "cell_type": "markdown",
   "metadata": {},
   "source": [
    "# model selection"
   ]
  },
  {
   "cell_type": "markdown",
   "metadata": {},
   "source": [
    "Now that we've extracted features from some correctly segmented and labeled song, we can use them to train our classifier with a machine learning algorithm."
   ]
  },
  {
   "cell_type": "markdown",
   "metadata": {},
   "source": [
    "## *k*-Nearest Neighbors algorithm\n",
    "The algorithm we're going to use is one of the simplest and first algorithms developed, known as *k*-nearest neighbors.\n",
    "![k-Nearest Neighbors](../static/knn_wikipedia.png)"
   ]
  },
  {
   "cell_type": "markdown",
   "metadata": {},
   "source": [
    "This time we'll use the `hvc.select` function.\n",
    "Again there's some things we have to tell the function, first of all where we have the feature file."
   ]
  },
  {
   "cell_type": "code",
   "execution_count": null,
   "metadata": {},
   "outputs": [],
   "source": [
    "from glob import glob\n",
    "\n",
    "feature_file_path = glob('../output/extract*/features_created*')[0]"
   ]
  },
  {
   "cell_type": "markdown",
   "metadata": {},
   "source": [
    "and of course we want to tell *which* features to use. We could do this by specifying certain columns from the matrix by their indices, but a shortcut is to just refer to the group of features we extracted. "
   ]
  },
  {
   "cell_type": "code",
   "execution_count": null,
   "metadata": {},
   "outputs": [],
   "source": [
    "feature_group='knn'"
   ]
  },
  {
   "cell_type": "markdown",
   "metadata": {},
   "source": [
    "And also we need to tell `hvc` which *algorithm* we want to use to train our classifiers."
   ]
  },
  {
   "cell_type": "code",
   "execution_count": null,
   "metadata": {},
   "outputs": [],
   "source": [
    "model_name='knn'"
   ]
  },
  {
   "cell_type": "markdown",
   "metadata": {},
   "source": [
    "Every machine learning algorithm has **hyperparameters** that affect *how* the algorithm \"learns\" (so named in contrast to the parameters of the statistical models we are fitting). We specify the hyperparameters with a Python dictionary, where the keys are the names of the hyperparameters, and the \n",
    "\n",
    "For *k*-Nearest Neighbors, there's only one hyperparameter we absolutely have to specify, which is the number of neighbors **k** to look at when we take a vote on the identity of the point we are trying to label in feature space."
   ]
  },
  {
   "cell_type": "code",
   "execution_count": null,
   "metadata": {},
   "outputs": [],
   "source": [
    "hyperparameters={'k': 4}"
   ]
  },
  {
   "cell_type": "markdown",
   "metadata": {},
   "source": [
    "To get an idea of how well our model performs given a certain amount of training data, we're going to create a **learning curve**, where we plot the accuracy as a function of the size of the training set.\n",
    "\n",
    "So we specify a range of training set sizes, `train_samples_range`. In addition we define `num_replicates`, the number of times to replicate training with a set of this size (with a random grab of samples). This allows us to estimate the accuracy of a \"population\" of classifiers that we would see if we just randomly labeled the first *n* samples by hand, where *n* is the size of our training set.\n",
    "\n",
    "We also need to have a separate test set that we use to measure accuracy; if we were to measure accuracy on just the training data, then we would conflate the accuracy with how well the model can fit the data. So we set a value for `num_test_samples`, the number of samples in the test set."
   ]
  },
  {
   "cell_type": "code",
   "execution_count": null,
   "metadata": {},
   "outputs": [],
   "source": [
    "train_samples_range=range(100, 401, 100)\n",
    "num_replicates=5\n",
    "num_test_samples=400"
   ]
  },
  {
   "cell_type": "markdown",
   "metadata": {},
   "source": [
    "We are now ready to train models and select the best one."
   ]
  },
  {
   "cell_type": "code",
   "execution_count": null,
   "metadata": {},
   "outputs": [],
   "source": [
    "hvc.select(feature_file_path=feature_file_path,\n",
    "           feature_group='knn',\n",
    "           train_samples_range=train_samples_range,\n",
    "           num_replicates=num_replicates,\n",
    "           num_test_samples=num_test_samples,\n",
    "           model_name=model_name,\n",
    "           hyperparameters=hyperparameters,\n",
    "           output_dir=output_dir\n",
    "           )"
   ]
  }
 ],
 "metadata": {
  "kernelspec": {
   "display_name": "Python 3",
   "language": "python",
   "name": "python3"
  },
  "language_info": {
   "codemirror_mode": {
    "name": "ipython",
    "version": 3
   },
   "file_extension": ".py",
   "mimetype": "text/x-python",
   "name": "python",
   "nbconvert_exporter": "python",
   "pygments_lexer": "ipython3",
   "version": "3.5.4"
  }
 },
 "nbformat": 4,
 "nbformat_minor": 2
}
