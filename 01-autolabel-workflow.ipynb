{
 "cells": [
  {
   "cell_type": "markdown",
   "metadata": {},
   "source": [
    "# 1. hybrid-vocal-classifier autolabel workflow"
   ]
  },
  {
   "cell_type": "markdown",
   "metadata": {},
   "source": [
    "Here's the steps in the workflow for autolabeling vocalizations.\n",
    "\n",
    "First we import the library, since in Python you need to `import` a library before you can work with it."
   ]
  },
  {
   "cell_type": "code",
   "execution_count": null,
   "metadata": {},
   "outputs": [],
   "source": [
    "import hvc  # in Python we have to import a library before we can use it"
   ]
  },
  {
   "cell_type": "markdown",
   "metadata": {},
   "source": [
    "### 0. Label a small set of songs to provide **training data** for the models, typically ~20 songs.\n",
    "Here we download the data from a repository.  \n",
    "** You don't need to run this if you've already downloaded the data.**"
   ]
  },
  {
   "cell_type": "code",
   "execution_count": null,
   "metadata": {},
   "outputs": [],
   "source": [
    "hvc.utils.fetch('gy6or6.032212')\n",
    "hvc.utils.fetch('gy6or6.032612')"
   ]
  },
  {
   "cell_type": "markdown",
   "metadata": {},
   "source": [
    "### 1. Pick a machine learning algorithm/**model** and the **features** used to train the model. \n",
    "\n",
    "In this case we'll use the k-Nearest Neighbors (k-NN) algorithm because it's fast to apply to our data. We'll use the features built into the library that have been tested with k-NN.\n",
    "\n",
    "Picking a model and the features that go with it is simple:  \n",
    "1. In a text editor, open `gy6or6_autolabel.example.knn.extract.config.yml`\n",
    "2. Below the line that says `feature group:` add `knn` after the dash.\n",
    "3. Below the line that says `data_dirs:` add the path to the data you downloaded after the dash."
   ]
  },
  {
   "cell_type": "markdown",
   "metadata": {},
   "source": [
    "### 2. Extract features for that model from song files that will be used to train the model.  \n",
    "\n",
    "We call the `extract` function and we pass it the name of the `yaml` config file as an argument.\n",
    "\n",
    "```Python\n",
    "# 1. pick a model and 2. extract features for that model\n",
    "# Model and features are defined in extract.config.yml file.\n",
    "hvc.extract('gy6or6_autolabel_example.extract.knn.config.yml')\n",
    "```"
   ]
  },
  {
   "cell_type": "code",
   "execution_count": null,
   "metadata": {},
   "outputs": [],
   "source": []
  },
  {
   "cell_type": "markdown",
   "metadata": {},
   "source": [
    "### 3. Pick the **hyperparameters** used by the algorithm as it trains the model on the data.\n",
    "Now in Python we use some convenience functions to figure out which \"hyperparameters\" will give us the best accuracy when we train our machine learning models.\n",
    "```Python\n",
    "# 3. pick hyperparameters for model\n",
    "# Load summary feature file to use with helper functions for\n",
    "# finding best hyperparameters.\n",
    "from glob import glob\n",
    "summary_file = glob('./extract_output*/summary*')\n",
    "summary_data = hvc.load_feature_file(summary_file)\n",
    "# In this case, we picked a k-nearest neighbors model\n",
    "# and we want to find what value of k will give us the highest accuracy\n",
    "X = summary_data['features']\n",
    "y = summary_data['labels']\n",
    "cv_scores, best_k = hvc.utils.find_best_k(X,y,k_range=range(1, 11))\n",
    "```"
   ]
  },
  {
   "cell_type": "code",
   "execution_count": null,
   "metadata": {},
   "outputs": [],
   "source": []
  },
  {
   "cell_type": "markdown",
   "metadata": {},
   "source": [
    "### 4. Train, i.e., fit the **model** to the data  \n",
    "### 5. Select the **best** model based on some measure of accuracy. \n",
    "\n",
    "1. In a text editor, open `gy6or6_autolabel.example.knn.select.config.yml`\n",
    "2. On the line that says `feature_file:` paste the name of the feature file after the colon. The name will have a format like `summary_file_bird_ID_date`.\n",
    "\n",
    "Then run the following code in the cell below:\n",
    "```Python\n",
    "# 4. Fit the **model** to the data and 5. Select the **best** model\n",
    "hvc.select('gy6or6_autolabel.example.select.knn.config.yml')\n",
    "```"
   ]
  },
  {
   "cell_type": "code",
   "execution_count": null,
   "metadata": {},
   "outputs": [],
   "source": []
  },
  {
   "cell_type": "markdown",
   "metadata": {},
   "source": [
    "### 6. Using the fit model, **Predict** labels for unlabeled data."
   ]
  },
  {
   "cell_type": "markdown",
   "metadata": {},
   "source": [
    "1. In a text editor, open `gy6or6_autolabel.example.knn.predict.config.yml`\n",
    "2. On the line that says `model_meta_file:`, after the colon, paste the name of a meta file from the `select` output. The name will have a format like `summary_file_bird_ID_date`.\n",
    "3. Below the line that says `data_dirs:`, after the dash, add the path to the other folder of data that you downloaded.\n",
    "\n",
    "Then run the following code in the cell below.\n",
    "```Python\n",
    "# 6. **Predict** labels for unlabeled data using the fit model.\n",
    "hvc.predict('gy6or6_autolabel.example.predict.knn.config.yml')\n",
    "```"
   ]
  },
  {
   "cell_type": "code",
   "execution_count": null,
   "metadata": {},
   "outputs": [],
   "source": []
  },
  {
   "cell_type": "markdown",
   "metadata": {},
   "source": [
    "Congratulations! You have auto-labeled an entire day's worth of data."
   ]
  }
 ],
 "metadata": {
  "kernelspec": {
   "display_name": "Python 3",
   "language": "python",
   "name": "python3"
  },
  "language_info": {
   "codemirror_mode": {
    "name": "ipython",
    "version": 3
   },
   "file_extension": ".py",
   "mimetype": "text/x-python",
   "name": "python",
   "nbconvert_exporter": "python",
   "pygments_lexer": "ipython3",
   "version": "3.5.4"
  }
 },
 "nbformat": 4,
 "nbformat_minor": 2
}
